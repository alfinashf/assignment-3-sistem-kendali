{
  "cells": [
    {
      "cell_type": "markdown",
      "metadata": {
        "id": "view-in-github",
        "colab_type": "text"
      },
      "source": [
        "<a href=\"https://colab.research.google.com/github/alfinashf/assignment-sistem-kendali/blob/main/481478_Alfina_Shafiyyah_Makarim_Tugas_4_Sistem_Kendali.ipynb\" target=\"_parent\"><img src=\"https://colab.research.google.com/assets/colab-badge.svg\" alt=\"Open In Colab\"/></a>"
      ]
    },
    {
      "cell_type": "code",
      "execution_count": null,
      "metadata": {
        "id": "PpAr41AEwLYT",
        "colab": {
          "base_uri": "https://localhost:8080/"
        },
        "outputId": "812a5d07-7759-4ecd-9360-ae6db37ebaa1"
      },
      "outputs": [
        {
          "output_type": "stream",
          "name": "stdout",
          "text": [
            "Looking in indexes: https://pypi.org/simple, https://us-python.pkg.dev/colab-wheels/public/simple/\n",
            "Collecting slycot\n",
            "  Downloading slycot-0.5.0.0.tar.gz (3.0 MB)\n",
            "\u001b[K     |████████████████████████████████| 3.0 MB 41.4 MB/s \n",
            "\u001b[?25h  Installing build dependencies ... \u001b[?25l\u001b[?25hdone\n",
            "  Getting requirements to build wheel ... \u001b[?25l\u001b[?25hdone\n",
            "    Preparing wheel metadata ... \u001b[?25l\u001b[?25hdone\n",
            "Requirement already satisfied: numpy in /usr/local/lib/python3.7/dist-packages (from slycot) (1.21.6)\n",
            "Building wheels for collected packages: slycot\n"
          ]
        }
      ],
      "source": [
        "# Install module\n",
        "%pip install slycot\n",
        "%pip install control"
      ]
    },
    {
      "cell_type": "code",
      "execution_count": null,
      "metadata": {
        "id": "OlviWN9Zyt3o"
      },
      "outputs": [],
      "source": [
        "# import module\n",
        "import numpy as np\n",
        "import matplotlib.pyplot as plt\n",
        "import control.matlab as matlab\n",
        "from ipywidgets import interact"
      ]
    },
    {
      "cell_type": "code",
      "execution_count": null,
      "metadata": {
        "id": "eSHTiE7kwls9"
      },
      "outputs": [],
      "source": [
        "# fungsi menampilkan hasil second order\n",
        "def secondOrderWithIntegral(T, Kp = 1, Ki = 0):\n",
        "    # definisi plot\n",
        "    fig, (step, impulse, ramp) = plt.subplots(1, 3, figsize=(16, 8))\n",
        "\n",
        "    # definisi fungsi step response\n",
        "    s = matlab.tf('s')\n",
        "    # num = np.array([1])\n",
        "    # den = np.array([3,2])\n",
        "    num = np.array([1])\n",
        "    den = np.array([T, T/16, 1])\n",
        "    Gs = matlab.tf(num, den)\n",
        "    if Ki == 0:\n",
        "        G = Gs\n",
        "    else:\n",
        "        Gc = matlab.tf([Ki, Kp], [1, 0])\n",
        "        G = matlab.feedback(Gs*Gc, 1)\n",
        "    # transfer function\n",
        "    print(\"transfer function: \",G )\n",
        "\n",
        "    # step response\n",
        "    step_out, T = matlab.step(G)\n",
        "    step.plot(T, step_out, label = 'Step')\n",
        "    step.set_title('Step Response')\n",
        "    step.set_xlabel('Time (seconds)')\n",
        "    step.set_ylabel('Amplitude')\n",
        "    step.grid()\n",
        "    step.legend()\n",
        "\n",
        "    # ramp response\n",
        "    ramp_out, T = matlab.step(G/s)\n",
        "    ramp.plot(np.linspace(T[0], T[len(T)-1]), np.linspace(T[0], T[len(T)-1]), label = 'ideal')\n",
        "    ramp.plot(T, ramp_out, label = 'Ramp')\n",
        "    ramp.set_title('Ramp Response')\n",
        "    ramp.set_xlabel('Time (seconds)')\n",
        "    ramp.set_ylabel('Amplitude')\n",
        "    ramp.grid()\n",
        "    ramp.legend()\n",
        "\n",
        "    # impulse response\n",
        "    impulse_out, T = matlab.impulse(G)\n",
        "    impulse.plot(T, impulse_out, label = 'Impulse')\n",
        "    impulse.set_title('Impulse Response')\n",
        "    impulse.set_xlabel('Time (seconds)')\n",
        "    impulse.set_ylabel('Amplitude')\n",
        "    impulse.grid()\n",
        "    impulse.legend()\n",
        "\n",
        "    # menampilkan plot\n",
        "    plt.show()\n",
        "\n",
        "    # menampilkan hasil\n",
        "    stepInfo = matlab.stepinfo(G)\n",
        "    step_out, T = matlab.step(5*G)\n",
        "    print('Rise Time: ', stepInfo['RiseTime'])\n",
        "    print('Settling Time: ', stepInfo['SettlingTime'])\n",
        "    print('Overshoot: ', stepInfo['Overshoot'])\n",
        "    print('Steady-state Error', np.abs(5 - step_out[len(step_out) - 1]))\n",
        "\n",
        "print(\"Ok\")"
      ]
    },
    {
      "cell_type": "code",
      "execution_count": null,
      "metadata": {
        "id": "rRGcE9CwgTcu"
      },
      "outputs": [],
      "source": [
        "# menampilkan second order Kp = 2\n",
        "interact(secondOrderWithIntegral, T = (1.0, 9.0), Kp = 1, Ki = (0,9))"
      ]
    }
  ],
  "metadata": {
    "colab": {
      "collapsed_sections": [],
      "provenance": [],
      "include_colab_link": true
    },
    "kernelspec": {
      "display_name": "Python 3.10.6 64-bit",
      "language": "python",
      "name": "python3"
    },
    "language_info": {
      "codemirror_mode": {
        "name": "ipython",
        "version": 3
      },
      "file_extension": ".py",
      "mimetype": "text/x-python",
      "name": "python",
      "nbconvert_exporter": "python",
      "pygments_lexer": "ipython3",
      "version": "3.10.6"
    },
    "vscode": {
      "interpreter": {
        "hash": "aee8b7b246df8f9039afb4144a1f6fd8d2ca17a180786b69acc140d282b71a49"
      }
    }
  },
  "nbformat": 4,
  "nbformat_minor": 0
}