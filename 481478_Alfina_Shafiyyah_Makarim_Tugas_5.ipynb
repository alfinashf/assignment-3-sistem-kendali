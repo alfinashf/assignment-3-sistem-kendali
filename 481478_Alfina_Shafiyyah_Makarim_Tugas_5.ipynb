{
  "nbformat": 4,
  "nbformat_minor": 0,
  "metadata": {
    "colab": {
      "provenance": [],
      "authorship_tag": "ABX9TyM2Qk4ZNpFbrCZa9mfhLw1E",
      "include_colab_link": true
    },
    "kernelspec": {
      "name": "python3",
      "display_name": "Python 3"
    },
    "language_info": {
      "name": "python"
    },
    "widgets": {
      "application/vnd.jupyter.widget-state+json": {
        "a7a9198d1f754014988ea3f51da7dd5d": {
          "model_module": "@jupyter-widgets/controls",
          "model_name": "VBoxModel",
          "model_module_version": "1.5.0",
          "state": {
            "_dom_classes": [
              "widget-interact"
            ],
            "_model_module": "@jupyter-widgets/controls",
            "_model_module_version": "1.5.0",
            "_model_name": "VBoxModel",
            "_view_count": null,
            "_view_module": "@jupyter-widgets/controls",
            "_view_module_version": "1.5.0",
            "_view_name": "VBoxView",
            "box_style": "",
            "children": [
              "IPY_MODEL_8ffbd388cb7a44cf997443a92bb2a694",
              "IPY_MODEL_a6dce92615504a13ab3c4af06b42975a",
              "IPY_MODEL_ed9048475ffe4219b6452b6a7b6d9cf3",
              "IPY_MODEL_be21fb04bc7a464383cf8463bac63ce8"
            ],
            "layout": "IPY_MODEL_e99a6fa522ea416e974946bfdcb40a6f"
          }
        },
        "8ffbd388cb7a44cf997443a92bb2a694": {
          "model_module": "@jupyter-widgets/controls",
          "model_name": "FloatSliderModel",
          "model_module_version": "1.5.0",
          "state": {
            "_dom_classes": [],
            "_model_module": "@jupyter-widgets/controls",
            "_model_module_version": "1.5.0",
            "_model_name": "FloatSliderModel",
            "_view_count": null,
            "_view_module": "@jupyter-widgets/controls",
            "_view_module_version": "1.5.0",
            "_view_name": "FloatSliderView",
            "continuous_update": true,
            "description": "T",
            "description_tooltip": null,
            "disabled": false,
            "layout": "IPY_MODEL_d37146242cc842a6ab78342d3e5c6103",
            "max": 10,
            "min": 1,
            "orientation": "horizontal",
            "readout": true,
            "readout_format": ".2f",
            "step": 0.1,
            "style": "IPY_MODEL_6150311c9310430e998ff9db4778a739",
            "value": 5.5
          }
        },
        "a6dce92615504a13ab3c4af06b42975a": {
          "model_module": "@jupyter-widgets/controls",
          "model_name": "IntSliderModel",
          "model_module_version": "1.5.0",
          "state": {
            "_dom_classes": [],
            "_model_module": "@jupyter-widgets/controls",
            "_model_module_version": "1.5.0",
            "_model_name": "IntSliderModel",
            "_view_count": null,
            "_view_module": "@jupyter-widgets/controls",
            "_view_module_version": "1.5.0",
            "_view_name": "IntSliderView",
            "continuous_update": true,
            "description": "Kp",
            "description_tooltip": null,
            "disabled": false,
            "layout": "IPY_MODEL_97a0e559a1984da9953247a153e2a295",
            "max": 10,
            "min": 1,
            "orientation": "horizontal",
            "readout": true,
            "readout_format": "d",
            "step": 1,
            "style": "IPY_MODEL_6d7dbc060af347469ed498a75258f9dc",
            "value": 1
          }
        },
        "ed9048475ffe4219b6452b6a7b6d9cf3": {
          "model_module": "@jupyter-widgets/controls",
          "model_name": "IntSliderModel",
          "model_module_version": "1.5.0",
          "state": {
            "_dom_classes": [],
            "_model_module": "@jupyter-widgets/controls",
            "_model_module_version": "1.5.0",
            "_model_name": "IntSliderModel",
            "_view_count": null,
            "_view_module": "@jupyter-widgets/controls",
            "_view_module_version": "1.5.0",
            "_view_name": "IntSliderView",
            "continuous_update": true,
            "description": "Kd",
            "description_tooltip": null,
            "disabled": false,
            "layout": "IPY_MODEL_c113acadd0574044b734f005dd1bdea6",
            "max": 10,
            "min": 0,
            "orientation": "horizontal",
            "readout": true,
            "readout_format": "d",
            "step": 1,
            "style": "IPY_MODEL_f0640b357a9548798cec9ef8615b752a",
            "value": 0
          }
        },
        "be21fb04bc7a464383cf8463bac63ce8": {
          "model_module": "@jupyter-widgets/output",
          "model_name": "OutputModel",
          "model_module_version": "1.0.0",
          "state": {
            "_dom_classes": [],
            "_model_module": "@jupyter-widgets/output",
            "_model_module_version": "1.0.0",
            "_model_name": "OutputModel",
            "_view_count": null,
            "_view_module": "@jupyter-widgets/output",
            "_view_module_version": "1.0.0",
            "_view_name": "OutputView",
            "layout": "IPY_MODEL_425a007fb70543a98a40df69119f093c",
            "msg_id": "",
            "outputs": [
              {
                "output_type": "stream",
                "name": "stdout",
                "text": [
                  "transfer function:  \n",
                  "          1\n",
                  "----------------------\n",
                  "5.5 s^2 + 0.3438 s + 1\n",
                  "\n"
                ]
              },
              {
                "output_type": "display_data",
                "data": {
                  "text/plain": "<Figure size 1152x576 with 3 Axes>",
                  "image/png": "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\n"
                },
                "metadata": {
                  "needs_background": "light"
                }
              },
              {
                "output_type": "stream",
                "name": "stdout",
                "text": [
                  "Rise Time:  2.9394703314817607\n",
                  "Settling Time:  119.93038952445583\n",
                  "Overshoot:  78.91839350218525\n",
                  "Steady-state Error 0.004760006857972954\n"
                ]
              }
            ]
          }
        },
        "e99a6fa522ea416e974946bfdcb40a6f": {
          "model_module": "@jupyter-widgets/base",
          "model_name": "LayoutModel",
          "model_module_version": "1.2.0",
          "state": {
            "_model_module": "@jupyter-widgets/base",
            "_model_module_version": "1.2.0",
            "_model_name": "LayoutModel",
            "_view_count": null,
            "_view_module": "@jupyter-widgets/base",
            "_view_module_version": "1.2.0",
            "_view_name": "LayoutView",
            "align_content": null,
            "align_items": null,
            "align_self": null,
            "border": null,
            "bottom": null,
            "display": null,
            "flex": null,
            "flex_flow": null,
            "grid_area": null,
            "grid_auto_columns": null,
            "grid_auto_flow": null,
            "grid_auto_rows": null,
            "grid_column": null,
            "grid_gap": null,
            "grid_row": null,
            "grid_template_areas": null,
            "grid_template_columns": null,
            "grid_template_rows": null,
            "height": null,
            "justify_content": null,
            "justify_items": null,
            "left": null,
            "margin": null,
            "max_height": null,
            "max_width": null,
            "min_height": null,
            "min_width": null,
            "object_fit": null,
            "object_position": null,
            "order": null,
            "overflow": null,
            "overflow_x": null,
            "overflow_y": null,
            "padding": null,
            "right": null,
            "top": null,
            "visibility": null,
            "width": null
          }
        },
        "d37146242cc842a6ab78342d3e5c6103": {
          "model_module": "@jupyter-widgets/base",
          "model_name": "LayoutModel",
          "model_module_version": "1.2.0",
          "state": {
            "_model_module": "@jupyter-widgets/base",
            "_model_module_version": "1.2.0",
            "_model_name": "LayoutModel",
            "_view_count": null,
            "_view_module": "@jupyter-widgets/base",
            "_view_module_version": "1.2.0",
            "_view_name": "LayoutView",
            "align_content": null,
            "align_items": null,
            "align_self": null,
            "border": null,
            "bottom": null,
            "display": null,
            "flex": null,
            "flex_flow": null,
            "grid_area": null,
            "grid_auto_columns": null,
            "grid_auto_flow": null,
            "grid_auto_rows": null,
            "grid_column": null,
            "grid_gap": null,
            "grid_row": null,
            "grid_template_areas": null,
            "grid_template_columns": null,
            "grid_template_rows": null,
            "height": null,
            "justify_content": null,
            "justify_items": null,
            "left": null,
            "margin": null,
            "max_height": null,
            "max_width": null,
            "min_height": null,
            "min_width": null,
            "object_fit": null,
            "object_position": null,
            "order": null,
            "overflow": null,
            "overflow_x": null,
            "overflow_y": null,
            "padding": null,
            "right": null,
            "top": null,
            "visibility": null,
            "width": null
          }
        },
        "6150311c9310430e998ff9db4778a739": {
          "model_module": "@jupyter-widgets/controls",
          "model_name": "SliderStyleModel",
          "model_module_version": "1.5.0",
          "state": {
            "_model_module": "@jupyter-widgets/controls",
            "_model_module_version": "1.5.0",
            "_model_name": "SliderStyleModel",
            "_view_count": null,
            "_view_module": "@jupyter-widgets/base",
            "_view_module_version": "1.2.0",
            "_view_name": "StyleView",
            "description_width": "",
            "handle_color": null
          }
        },
        "97a0e559a1984da9953247a153e2a295": {
          "model_module": "@jupyter-widgets/base",
          "model_name": "LayoutModel",
          "model_module_version": "1.2.0",
          "state": {
            "_model_module": "@jupyter-widgets/base",
            "_model_module_version": "1.2.0",
            "_model_name": "LayoutModel",
            "_view_count": null,
            "_view_module": "@jupyter-widgets/base",
            "_view_module_version": "1.2.0",
            "_view_name": "LayoutView",
            "align_content": null,
            "align_items": null,
            "align_self": null,
            "border": null,
            "bottom": null,
            "display": null,
            "flex": null,
            "flex_flow": null,
            "grid_area": null,
            "grid_auto_columns": null,
            "grid_auto_flow": null,
            "grid_auto_rows": null,
            "grid_column": null,
            "grid_gap": null,
            "grid_row": null,
            "grid_template_areas": null,
            "grid_template_columns": null,
            "grid_template_rows": null,
            "height": null,
            "justify_content": null,
            "justify_items": null,
            "left": null,
            "margin": null,
            "max_height": null,
            "max_width": null,
            "min_height": null,
            "min_width": null,
            "object_fit": null,
            "object_position": null,
            "order": null,
            "overflow": null,
            "overflow_x": null,
            "overflow_y": null,
            "padding": null,
            "right": null,
            "top": null,
            "visibility": null,
            "width": null
          }
        },
        "6d7dbc060af347469ed498a75258f9dc": {
          "model_module": "@jupyter-widgets/controls",
          "model_name": "SliderStyleModel",
          "model_module_version": "1.5.0",
          "state": {
            "_model_module": "@jupyter-widgets/controls",
            "_model_module_version": "1.5.0",
            "_model_name": "SliderStyleModel",
            "_view_count": null,
            "_view_module": "@jupyter-widgets/base",
            "_view_module_version": "1.2.0",
            "_view_name": "StyleView",
            "description_width": "",
            "handle_color": null
          }
        },
        "c113acadd0574044b734f005dd1bdea6": {
          "model_module": "@jupyter-widgets/base",
          "model_name": "LayoutModel",
          "model_module_version": "1.2.0",
          "state": {
            "_model_module": "@jupyter-widgets/base",
            "_model_module_version": "1.2.0",
            "_model_name": "LayoutModel",
            "_view_count": null,
            "_view_module": "@jupyter-widgets/base",
            "_view_module_version": "1.2.0",
            "_view_name": "LayoutView",
            "align_content": null,
            "align_items": null,
            "align_self": null,
            "border": null,
            "bottom": null,
            "display": null,
            "flex": null,
            "flex_flow": null,
            "grid_area": null,
            "grid_auto_columns": null,
            "grid_auto_flow": null,
            "grid_auto_rows": null,
            "grid_column": null,
            "grid_gap": null,
            "grid_row": null,
            "grid_template_areas": null,
            "grid_template_columns": null,
            "grid_template_rows": null,
            "height": null,
            "justify_content": null,
            "justify_items": null,
            "left": null,
            "margin": null,
            "max_height": null,
            "max_width": null,
            "min_height": null,
            "min_width": null,
            "object_fit": null,
            "object_position": null,
            "order": null,
            "overflow": null,
            "overflow_x": null,
            "overflow_y": null,
            "padding": null,
            "right": null,
            "top": null,
            "visibility": null,
            "width": null
          }
        },
        "f0640b357a9548798cec9ef8615b752a": {
          "model_module": "@jupyter-widgets/controls",
          "model_name": "SliderStyleModel",
          "model_module_version": "1.5.0",
          "state": {
            "_model_module": "@jupyter-widgets/controls",
            "_model_module_version": "1.5.0",
            "_model_name": "SliderStyleModel",
            "_view_count": null,
            "_view_module": "@jupyter-widgets/base",
            "_view_module_version": "1.2.0",
            "_view_name": "StyleView",
            "description_width": "",
            "handle_color": null
          }
        },
        "425a007fb70543a98a40df69119f093c": {
          "model_module": "@jupyter-widgets/base",
          "model_name": "LayoutModel",
          "model_module_version": "1.2.0",
          "state": {
            "_model_module": "@jupyter-widgets/base",
            "_model_module_version": "1.2.0",
            "_model_name": "LayoutModel",
            "_view_count": null,
            "_view_module": "@jupyter-widgets/base",
            "_view_module_version": "1.2.0",
            "_view_name": "LayoutView",
            "align_content": null,
            "align_items": null,
            "align_self": null,
            "border": null,
            "bottom": null,
            "display": null,
            "flex": null,
            "flex_flow": null,
            "grid_area": null,
            "grid_auto_columns": null,
            "grid_auto_flow": null,
            "grid_auto_rows": null,
            "grid_column": null,
            "grid_gap": null,
            "grid_row": null,
            "grid_template_areas": null,
            "grid_template_columns": null,
            "grid_template_rows": null,
            "height": null,
            "justify_content": null,
            "justify_items": null,
            "left": null,
            "margin": null,
            "max_height": null,
            "max_width": null,
            "min_height": null,
            "min_width": null,
            "object_fit": null,
            "object_position": null,
            "order": null,
            "overflow": null,
            "overflow_x": null,
            "overflow_y": null,
            "padding": null,
            "right": null,
            "top": null,
            "visibility": null,
            "width": null
          }
        }
      }
    }
  },
  "cells": [
    {
      "cell_type": "markdown",
      "metadata": {
        "id": "view-in-github",
        "colab_type": "text"
      },
      "source": [
        "<a href=\"https://colab.research.google.com/github/alfinashf/assignment-sistem-kendali/blob/main/481478_Alfina_Shafiyyah_Makarim_Tugas_5.ipynb\" target=\"_parent\"><img src=\"https://colab.research.google.com/assets/colab-badge.svg\" alt=\"Open In Colab\"/></a>"
      ]
    },
    {
      "cell_type": "markdown",
      "source": [
        "# Nama : Alfina Shafiyyah Makarim\n",
        "# NIM : 21/481478/PA/20966\n",
        "# Assignment 5\n"
      ],
      "metadata": {
        "id": "cBcf0FXm0rx3"
      }
    },
    {
      "cell_type": "code",
      "execution_count": null,
      "metadata": {
        "colab": {
          "base_uri": "https://localhost:8080/"
        },
        "id": "2OV41dpgvna0",
        "outputId": "328f9d7f-4817-4ce4-c6ef-b26bea29a0ba"
      },
      "outputs": [
        {
          "output_type": "stream",
          "name": "stdout",
          "text": [
            "Looking in indexes: https://pypi.org/simple, https://us-python.pkg.dev/colab-wheels/public/simple/\n",
            "Collecting slycot\n",
            "  Downloading slycot-0.5.0.0.tar.gz (3.0 MB)\n",
            "\u001b[K     |████████████████████████████████| 3.0 MB 14.7 MB/s \n",
            "\u001b[?25h  Installing build dependencies ... \u001b[?25l\u001b[?25hdone\n",
            "  Getting requirements to build wheel ... \u001b[?25l\u001b[?25hdone\n",
            "    Preparing wheel metadata ... \u001b[?25l\u001b[?25hdone\n",
            "Requirement already satisfied: numpy in /usr/local/lib/python3.7/dist-packages (from slycot) (1.21.6)\n",
            "Building wheels for collected packages: slycot\n",
            "  Building wheel for slycot (PEP 517) ... \u001b[?25l\u001b[?25hdone\n",
            "  Created wheel for slycot: filename=slycot-0.5.0-cp37-cp37m-linux_x86_64.whl size=2021295 sha256=6109c07ae87fad47d10f2c1533bbf6664dd081894e288d4f3fcc496f84d2c92f\n",
            "  Stored in directory: /root/.cache/pip/wheels/7f/2e/54/e2cb7cf358f956ed0efa9923ab4f5aa353a941422c55b25531\n",
            "Successfully built slycot\n",
            "Installing collected packages: slycot\n",
            "Successfully installed slycot-0.5.0\n",
            "Looking in indexes: https://pypi.org/simple, https://us-python.pkg.dev/colab-wheels/public/simple/\n",
            "Collecting control\n",
            "  Downloading control-0.9.2.tar.gz (398 kB)\n",
            "\u001b[K     |████████████████████████████████| 398 kB 14.5 MB/s \n",
            "\u001b[?25hRequirement already satisfied: numpy in /usr/local/lib/python3.7/dist-packages (from control) (1.21.6)\n",
            "Requirement already satisfied: scipy in /usr/local/lib/python3.7/dist-packages (from control) (1.7.3)\n",
            "Requirement already satisfied: matplotlib in /usr/local/lib/python3.7/dist-packages (from control) (3.2.2)\n",
            "Requirement already satisfied: kiwisolver>=1.0.1 in /usr/local/lib/python3.7/dist-packages (from matplotlib->control) (1.4.4)\n",
            "Requirement already satisfied: python-dateutil>=2.1 in /usr/local/lib/python3.7/dist-packages (from matplotlib->control) (2.8.2)\n",
            "Requirement already satisfied: pyparsing!=2.0.4,!=2.1.2,!=2.1.6,>=2.0.1 in /usr/local/lib/python3.7/dist-packages (from matplotlib->control) (3.0.9)\n",
            "Requirement already satisfied: cycler>=0.10 in /usr/local/lib/python3.7/dist-packages (from matplotlib->control) (0.11.0)\n",
            "Requirement already satisfied: typing-extensions in /usr/local/lib/python3.7/dist-packages (from kiwisolver>=1.0.1->matplotlib->control) (4.1.1)\n",
            "Requirement already satisfied: six>=1.5 in /usr/local/lib/python3.7/dist-packages (from python-dateutil>=2.1->matplotlib->control) (1.15.0)\n",
            "Building wheels for collected packages: control\n",
            "  Building wheel for control (setup.py) ... \u001b[?25l\u001b[?25hdone\n",
            "  Created wheel for control: filename=control-0.9.2-py2.py3-none-any.whl size=403205 sha256=1b5ddd3eddd50acd434b905b7756ef127c6d24889f902152670f9d1d30f0feec\n",
            "  Stored in directory: /root/.cache/pip/wheels/48/ef/c2/929bb5c59a1328df00a0561d0e68cd7c8537f33f5ce0ce741b\n",
            "Successfully built control\n",
            "Installing collected packages: control\n",
            "Successfully installed control-0.9.2\n"
          ]
        }
      ],
      "source": [
        "# Install module\n"
      ]
    },
    {
      "cell_type": "markdown",
      "source": [],
      "metadata": {
        "id": "xjfbbX770pZN"
      }
    },
    {
      "cell_type": "code",
      "source": [
        "# import module\n",
        "import numpy as np\n",
        "import matplotlib.pyplot as plt\n",
        "import control.matlab as matlab\n",
        "from ipywidgets import interact"
      ],
      "metadata": {
        "id": "dmjGCQ4M0PlP"
      },
      "execution_count": null,
      "outputs": []
    },
    {
      "cell_type": "code",
      "source": [
        "# fungsi menampilkan hasil second order\n",
        "def secondOrderWithIntegral(T, Kp = 1, Kd = 0):\n",
        "    # definisi plot\n",
        "    fig, (step, impulse, ramp) = plt.subplots(1, 3, figsize=(16, 8))\n",
        "\n",
        "    # definisi fungsi step response\n",
        "    s = matlab.tf('s')\n",
        "    # num = np.array([1])\n",
        "    # den = np.array([3,2])\n",
        "    num = np.array([1])\n",
        "    den = np.array([T, T/16, 1])\n",
        "    Gs = matlab.tf(num, den)\n",
        "    if Kd == 0:\n",
        "        G = Gs\n",
        "    else:\n",
        "        Gc = matlab.tf([Kd, Kp], 1)\n",
        "        G = matlab.feedback(Gs*Gc, 1)\n",
        "    # transfer function\n",
        "    print(\"transfer function: \",G )\n",
        "\n",
        "    # step response\n",
        "    step_out, T = matlab.step(G)\n",
        "    step.plot(T, step_out, label = 'Step')\n",
        "    step.set_title('Step Response')\n",
        "    step.set_xlabel('Time (seconds)')\n",
        "    step.set_ylabel('Amplitude')\n",
        "    step.grid()\n",
        "    step.legend()\n",
        "\n",
        "    # ramp response\n",
        "    ramp_out, T = matlab.step(G/s)\n",
        "    ramp.plot(np.linspace(T[0], T[len(T)-1]), np.linspace(T[0], T[len(T)-1]), label = 'ideal')\n",
        "    ramp.plot(T, ramp_out, label = 'Ramp')\n",
        "    ramp.set_title('Ramp Response')\n",
        "    ramp.set_xlabel('Time (seconds)')\n",
        "    ramp.set_ylabel('Amplitude')\n",
        "    ramp.grid()\n",
        "    ramp.legend()\n",
        "\n",
        "    # impulse response\n",
        "    impulse_out, T = matlab.impulse(G)\n",
        "    impulse.plot(T, impulse_out, label = 'Impulse')\n",
        "    impulse.set_title('Impulse Response')\n",
        "    impulse.set_xlabel('Time (seconds)')\n",
        "    impulse.set_ylabel('Amplitude')\n",
        "    impulse.grid()\n",
        "    impulse.legend()\n",
        "\n",
        "    # menampilkan plot\n",
        "    plt.show()\n",
        "\n",
        "    # menampilkan hasil\n",
        "    stepInfo = matlab.stepinfo(G)\n",
        "    step_out, T = matlab.step(5*G)\n",
        "    print('Rise Time: ', stepInfo['RiseTime'])\n",
        "    print('Settling Time: ', stepInfo['SettlingTime'])\n",
        "    print('Overshoot: ', stepInfo['Overshoot'])\n",
        "    print('Steady-state Error', np.abs(5 - step_out[len(step_out) - 1]))\n",
        "\n",
        "print(\"Ok\")"
      ],
      "metadata": {
        "colab": {
          "base_uri": "https://localhost:8080/"
        },
        "id": "RbILhWzh0Rkz",
        "outputId": "886126a0-3966-48dd-d02a-4ee69fde19d5"
      },
      "execution_count": null,
      "outputs": [
        {
          "output_type": "stream",
          "name": "stdout",
          "text": [
            "Ok\n"
          ]
        }
      ]
    },
    {
      "cell_type": "code",
      "source": [
        "# menampilkan second order Kp = 2\n",
        "interact(secondOrderWithIntegral, T = (1.0, 10.0, 0.1), Kp = (1, 10, 1), Kd = (0, 10, 1))"
      ],
      "metadata": {
        "colab": {
          "base_uri": "https://localhost:8080/",
          "height": 783,
          "referenced_widgets": [
            "a7a9198d1f754014988ea3f51da7dd5d",
            "8ffbd388cb7a44cf997443a92bb2a694",
            "a6dce92615504a13ab3c4af06b42975a",
            "ed9048475ffe4219b6452b6a7b6d9cf3",
            "be21fb04bc7a464383cf8463bac63ce8",
            "e99a6fa522ea416e974946bfdcb40a6f",
            "d37146242cc842a6ab78342d3e5c6103",
            "6150311c9310430e998ff9db4778a739",
            "97a0e559a1984da9953247a153e2a295",
            "6d7dbc060af347469ed498a75258f9dc",
            "c113acadd0574044b734f005dd1bdea6",
            "f0640b357a9548798cec9ef8615b752a",
            "425a007fb70543a98a40df69119f093c"
          ]
        },
        "id": "B1qVGqQ80Zlw",
        "outputId": "7fb87939-3536-4c97-e561-de710c2052be"
      },
      "execution_count": null,
      "outputs": [
        {
          "output_type": "display_data",
          "data": {
            "text/plain": [
              "interactive(children=(FloatSlider(value=5.5, description='T', max=10.0, min=1.0), IntSlider(value=1, descripti…"
            ],
            "application/vnd.jupyter.widget-view+json": {
              "version_major": 2,
              "version_minor": 0,
              "model_id": "a7a9198d1f754014988ea3f51da7dd5d"
            }
          },
          "metadata": {}
        },
        {
          "output_type": "execute_result",
          "data": {
            "text/plain": [
              "<function __main__.secondOrderWithIntegral(T, Kp=1, Kd=0)>"
            ]
          },
          "metadata": {},
          "execution_count": 7
        }
      ]
    }
  ]
}